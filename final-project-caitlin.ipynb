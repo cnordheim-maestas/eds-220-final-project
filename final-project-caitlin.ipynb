{
 "cells": [
  {
   "cell_type": "markdown",
   "id": "508c1df4-a51a-4c4a-8f7e-bb73c605f367",
   "metadata": {},
   "source": [
    "# EDS 220 Final Project"
   ]
  },
  {
   "cell_type": "markdown",
   "id": "96bd93ec-3512-440e-a40f-9d5418713c1e",
   "metadata": {},
   "source": [
    "## Instructions\n",
    "\n",
    "Data access:\n",
    "1. BII data: This dataset is part of the MPC STAC catalog. You will need to access the ‘io-biodiversity’ collection and look for the 2017 and 2020 rasters covering Phoenix subdivision. You can use the following coordinates for a bounding box: \n",
    "[-112.826843, 32.974108, -111.184387, 33.863574]\n",
    "Phoenix subdivision: You will find the Phoenix subdivision polygon in the Census County Subdivision shapefiles for Arizona: https://www.census.gov/cgi-bin/geo/shapefiles/index.php?year=2022&layergroup=County+Subdivisions\n",
    "\n",
    "2. Create a map showing the Phoenix subdivision within an appropriate geographical context. You may use any vector datasets to create your map. (You can also check out the contextily package.)\n",
    "\n",
    "3. Calculate the percentage of area of the Phoenix subdivision with a BII of at least 0.75 in 2017. Obtain the same calculation for 2020.\n",
    "HINTS (useful or not depending on your workflow): \n",
    "Let x be an xarray.DataArray. We can select all the values greater than n by simply doing x>n. This will return an xarray.DataArray with boolean values. You can then transform this into an xarray.DataArray with 0s and 1s (instead of True/False) by casting it as type ‘int’. \n",
    "To calculate the percentage area: (pixels in class)/(total pixels) * 100. \n",
    "\n",
    "4. Create a visualization showing the area with BII>=0.75 in 2017 that was lost by 2020.\n"
   ]
  },
  {
   "cell_type": "markdown",
   "id": "65c9a532-a43d-4dc9-b96a-650c4169fc16",
   "metadata": {},
   "source": [
    "## Data Access\n",
    "\n",
    "- You will need to access the ‘io-biodiversity’ collection\n",
    "- Look for the 2017 and 2020 rasters covering Phoenix subdivision\n",
    "- Use this bounding box:[-112.826843, 32.974108, -111.184387, 33.863574]\n",
    "- Phoenix subdivision: You will find the Phoenix subdivision polygon in the Census County Subdivision shapefiles for Arizona: https://www.census.gov/cgi-bin/geo/shapefiles/index.php?year=2022&layergroup=County+Subdivisions"
   ]
  },
  {
   "cell_type": "code",
   "execution_count": null,
   "id": "06082292-9706-4e36-b2b8-8dd795100f66",
   "metadata": {},
   "outputs": [],
   "source": []
  }
 ],
 "metadata": {
  "kernelspec": {
   "display_name": "Python 3 (ipykernel)",
   "language": "python",
   "name": "python3"
  },
  "language_info": {
   "codemirror_mode": {
    "name": "ipython",
    "version": 3
   },
   "file_extension": ".py",
   "mimetype": "text/x-python",
   "name": "python",
   "nbconvert_exporter": "python",
   "pygments_lexer": "ipython3",
   "version": "3.11.4"
  }
 },
 "nbformat": 4,
 "nbformat_minor": 5
}
